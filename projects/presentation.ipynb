{
 "cells": [
  {
   "cell_type": "markdown",
   "metadata": {},
   "source": [
    "# Building a Django powered Movie Recommender Rest API"
   ]
  },
  {
   "cell_type": "markdown",
   "metadata": {},
   "source": [
    "## A What is Django and why use it?\n",
    "- **Django** is a python-based web framework for software development <br><br>\n",
    "- It provides a template to quickly build a web application <br><br>\n",
    "- It enables seemless interface between a user and a database to perform **CRUD** operations <br><br>\n",
    "\n",
    "    - **CRUD** stands for: <br><br>\n",
    "        - Create (POST) <br><br>\n",
    "        - Read (GET) <br><br>\n",
    "        - Update (PUT) <br><br>\n",
    "        - Destroy (DELETE)<br><br>"
   ]
  },
  {
   "cell_type": "markdown",
   "metadata": {},
   "source": [
    "## B Why a REST API?"
   ]
  },
  {
   "cell_type": "markdown",
   "metadata": {},
   "source": [
    "- The desire to work as a backend data science developer receiving and supplying requests to other developers/interested individuals to create their own Apps <br><br>\n",
    "- As a user of googlemaps API myself, I have always being interested in the ability to create an **API** myself\n"
   ]
  },
  {
   "cell_type": "markdown",
   "metadata": {},
   "source": [
    "## C Flow"
   ]
  },
  {
   "cell_type": "markdown",
   "metadata": {},
   "source": [
    "- **Django** has a specific template that must be followed to create an application<br><br>\n",
    "- It provides a **settings file** where you configure the apps, databases, permissions, App passwords, urls, time, languages and so on.<br><br>\n",
    "- Essentially, **Django** enables us to communicate with our database and perform all operations that a user is permitted to do.\n",
    "\n"
   ]
  },
  {
   "cell_type": "markdown",
   "metadata": {},
   "source": [
    "### 1. Creating a model\n",
    "- A model is essentially a definition of a table in the database<br><br>\n",
    "- See the example below of how a model can be configure in Django"
   ]
  },
  {
   "cell_type": "code",
   "execution_count": null,
   "metadata": {},
   "outputs": [],
   "source": [
    "class Class(models.Model):\n",
    "    column1 = models.BigInteger()\n",
    "    column2 = models.CharField()\n",
    "    column3 = models.TextField()\n",
    "    column4 = models.BooleanField()\n",
    "    \n"
   ]
  },
  {
   "cell_type": "markdown",
   "metadata": {},
   "source": [
    "- 1.1 For my movie recommender app, I have 2 models (tables) inside my postgresql database<br><br>\n",
    "- **`MovieRecommender` model(table):**\n",
    "    - Meant for identifying the owner and when he/she created a post<br><br>\n",
    "- **`MovieRatings` model (table):**\n",
    "    - Table meant for allowing the owner to select 3 known movies"
   ]
  },
  {
   "cell_type": "markdown",
   "metadata": {},
   "source": [
    "### 2. Creating a model serializer"
   ]
  },
  {
   "cell_type": "markdown",
   "metadata": {},
   "source": [
    "- Once a model has been created, we must find a way of iteracting with it<br><br>\n",
    "- Serializers are functions that convert requests from Json to python dictionary and vice-versa\n",
    "  "
   ]
  },
  {
   "cell_type": "markdown",
   "metadata": {},
   "source": [
    "### 3. Views"
   ]
  },
  {
   "cell_type": "markdown",
   "metadata": {},
   "source": [
    "- **Serialization** enables us to interact with the data base without actually being inside the database software itself<br><br>\n",
    "- This enables us to create **Views**.<br><br>\n",
    "- **Views** are the functions that receive a **request** and return a **response**. <br><br>\n",
    "- **Views** are essential since we can:\n",
    "    - **save** data to database (POST/PUT)\n",
    "    - **retrieve** data from the database (GET)\n",
    "    - **delete** data from the database (DELETE)\n",
    "   "
   ]
  },
  {
   "cell_type": "markdown",
   "metadata": {},
   "source": [
    "### 4. URLs"
   ]
  },
  {
   "cell_type": "markdown",
   "metadata": {},
   "source": [
    "- For the **Views** to perform work, they need a **URL**<br><br>\n",
    "- **URL** is the 'link' that fires the **view**<br><br>\n",
    "- Every **view** in **Views** must have a specific **url** that fires it lest it remains unuseful"
   ]
  },
  {
   "cell_type": "markdown",
   "metadata": {},
   "source": [
    "### 5. Permissions"
   ]
  },
  {
   "cell_type": "markdown",
   "metadata": {},
   "source": [
    "- You don't want anyone to be able to make changes to your database without authorization<br><br>\n",
    "- **Django** takes authentications and permissions extremely seriously and provides mechanisms to effect this."
   ]
  },
  {
   "cell_type": "markdown",
   "metadata": {},
   "source": [
    "### 6. Demonstration"
   ]
  },
  {
   "cell_type": "markdown",
   "metadata": {},
   "source": [
    "- A live demo on how to:<br><br>\n",
    "    - Create a database in **Postgresql**<br><br>\n",
    "    - Create a user role <br><br>\n",
    "    - Grant the user unfettered access to the database<br><br>\n",
    "    - Configure **Django** settings to work with the created database<br><br>\n",
    "    - Create a **superuser** who can interact with our app and make changes to database<br><br>\n",
    "    - Migrate our model to the database (basically creating the tables from the model)<br><br>\n",
    "    - Make:<br><br>\n",
    "        - POST (**C**reate)<br><br>\n",
    "        - GET  (**R**etrieve)<br><br>\n",
    "        - PUT   (**U**pdate)<br><br>\n",
    "        - DELETE (**D**estroy)"
   ]
  },
  {
   "cell_type": "code",
   "execution_count": null,
   "metadata": {},
   "outputs": [],
   "source": []
  }
 ],
 "metadata": {
  "kernelspec": {
   "display_name": "Python 3 (ipykernel)",
   "language": "python",
   "name": "python3"
  },
  "language_info": {
   "codemirror_mode": {
    "name": "ipython",
    "version": 3
   },
   "file_extension": ".py",
   "mimetype": "text/x-python",
   "name": "python",
   "nbconvert_exporter": "python",
   "pygments_lexer": "ipython3",
   "version": "3.8.10"
  }
 },
 "nbformat": 4,
 "nbformat_minor": 2
}
